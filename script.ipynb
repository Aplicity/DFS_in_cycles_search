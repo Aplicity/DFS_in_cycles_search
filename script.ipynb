{
 "cells": [
  {
   "cell_type": "code",
   "execution_count": 1,
   "metadata": {},
   "outputs": [],
   "source": [
    "import numpy as np\n",
    "from collections import defaultdict"
   ]
  },
  {
   "cell_type": "markdown",
   "metadata": {},
   "source": [
    "## 读取数据文件，生成 无向图"
   ]
  },
  {
   "cell_type": "code",
   "execution_count": 3,
   "metadata": {},
   "outputs": [],
   "source": [
    "data = []\n",
    "with open('Data.txt' ) as fr: \n",
    "    for i, line in enumerate(fr.readlines()):\n",
    "        if i > 2:\n",
    "            items = []\n",
    "            lineArr = line.strip().split(' ')\n",
    "            for item in lineArr:\n",
    "                try:\n",
    "                    items.append(int(item))\n",
    "                except:\n",
    "                    pass\n",
    "            data.append(items)\n",
    "            \n",
    "Arr = np.array(data)\n",
    "graph = dict()\n",
    "for A in list(set(Arr[:,0])):\n",
    "    mask = Arr[:,0 ] == A\n",
    "    graph[A] = list(Arr[mask][:,1])"
   ]
  },
  {
   "cell_type": "code",
   "execution_count": null,
   "metadata": {},
   "outputs": [],
   "source": []
  },
  {
   "cell_type": "code",
   "execution_count": null,
   "metadata": {},
   "outputs": [],
   "source": []
  },
  {
   "cell_type": "markdown",
   "metadata": {},
   "source": [
    "## 找出无向图中 所有节点的连通分量"
   ]
  },
  {
   "cell_type": "code",
   "execution_count": 5,
   "metadata": {},
   "outputs": [
    {
     "data": {
      "text/plain": [
       "[63, 64, 99, 98, 66]"
      ]
     },
     "execution_count": 5,
     "metadata": {},
     "output_type": "execute_result"
    }
   ],
   "source": [
    "def iter_dfs(graph ,start):\n",
    "    S,Q=set(),[]\n",
    "    Q.append(start)\n",
    "    while Q:\n",
    "        u = Q.pop()\n",
    "        if u in S:\n",
    "            continue\n",
    "        S.add(u)\n",
    "        Q.extend(graph[u])\n",
    "        yield u\n",
    "\n",
    "## cc 存放所有节点的连通分量\n",
    "cc = dict()\n",
    "for start in graph.keys():\n",
    "    L = list(iter_dfs(graph, start))\n",
    "    cc[start] = L\n",
    "\n",
    "## 以63节点为sample，输出其连通分量\n",
    "list(iter_dfs(graph, 63))"
   ]
  },
  {
   "cell_type": "markdown",
   "metadata": {},
   "source": [
    "## 找出无向图中所有环（cycle）\n",
    "  * [GitHub参考地址](https://github.com/qpwo/python-simple-cycles)：https://github.com/qpwo/python-simple-cycles"
   ]
  },
  {
   "cell_type": "code",
   "execution_count": 14,
   "metadata": {},
   "outputs": [
    {
     "data": {
      "text/plain": [
       "[81, 83, 70, 95, 49, 54, 56, 61, 31, 53, 88, 24, 42, 50]"
      ]
     },
     "execution_count": 14,
     "metadata": {},
     "output_type": "execute_result"
    }
   ],
   "source": [
    "# Luke Miles, September 2017\n",
    "# A modification of networkx's implementation of Johnson's cycle finding algorithm\n",
    "# Original implementation: https://gist.github.com/qpwo/44b48595c2946bb8f823e2d72f687cd8\n",
    "# Original paper: Donald B Johnson. \"Finding all the elementary circuits of a directed graph.\" SIAM Journal on Computing. 1975.\n",
    "\n",
    "from collections import defaultdict\n",
    "\n",
    "def simple_cycles(G):\n",
    "    # Yield every elementary cycle in python graph G exactly once\n",
    "    # Expects a dictionary mapping from vertices to iterables of vertices\n",
    "    def _unblock(thisnode, blocked, B):\n",
    "        stack = set([thisnode])\n",
    "        while stack:\n",
    "            node = stack.pop()\n",
    "            if node in blocked:\n",
    "                blocked.remove(node)\n",
    "                stack.update(B[node])\n",
    "                B[node].clear()\n",
    "    G = {v: set(nbrs) for (v,nbrs) in G.items()} # make a copy of the graph\n",
    "    sccs = strongly_connected_components(G)\n",
    "    while sccs:\n",
    "        scc = sccs.pop()\n",
    "        startnode = scc.pop()\n",
    "        path=[startnode]\n",
    "        blocked = set()\n",
    "        closed = set()\n",
    "        blocked.add(startnode)\n",
    "        B = defaultdict(set)\n",
    "        stack = [ (startnode,list(G[startnode])) ]\n",
    "        while stack:\n",
    "            thisnode, nbrs = stack[-1]\n",
    "            if nbrs:\n",
    "                nextnode = nbrs.pop()\n",
    "                if nextnode == startnode:\n",
    "                    yield path[:]\n",
    "                    closed.update(path)\n",
    "                elif nextnode not in blocked:\n",
    "                    path.append(nextnode)\n",
    "                    stack.append( (nextnode,list(G[nextnode])) )\n",
    "                    closed.discard(nextnode)\n",
    "                    blocked.add(nextnode)\n",
    "                    continue\n",
    "            if not nbrs:\n",
    "                if thisnode in closed:\n",
    "                    _unblock(thisnode,blocked,B)\n",
    "                else:\n",
    "                    for nbr in G[thisnode]:\n",
    "                        if thisnode not in B[nbr]:\n",
    "                            B[nbr].add(thisnode)\n",
    "                stack.pop()\n",
    "                path.pop()\n",
    "        remove_node(G, startnode)\n",
    "        H = subgraph(G, set(scc))\n",
    "        sccs.extend(strongly_connected_components(H))\n",
    "\n",
    "def strongly_connected_components(graph):\n",
    "    # Tarjan's algorithm for finding SCC's\n",
    "    # Robert Tarjan. \"Depth-first search and linear graph algorithms.\" SIAM journal on computing. 1972.\n",
    "    # Code by Dries Verdegem, November 2012\n",
    "    # Downloaded from http://www.logarithmic.net/pfh/blog/01208083168\n",
    "\n",
    "    index_counter = [0]\n",
    "    stack = []\n",
    "    lowlink = {}\n",
    "    index = {}\n",
    "    result = []\n",
    "    \n",
    "    def _strong_connect(node):\n",
    "        index[node] = index_counter[0]\n",
    "        lowlink[node] = index_counter[0]\n",
    "        index_counter[0] += 1\n",
    "        stack.append(node)\n",
    "    \n",
    "        successors = graph[node]\n",
    "        for successor in successors:\n",
    "            if successor not in index:\n",
    "                _strong_connect(successor)\n",
    "                lowlink[node] = min(lowlink[node],lowlink[successor])\n",
    "            elif successor in stack:\n",
    "                lowlink[node] = min(lowlink[node],index[successor])\n",
    "\n",
    "        if lowlink[node] == index[node]:\n",
    "            connected_component = []\n",
    "\n",
    "            while True:\n",
    "                successor = stack.pop()\n",
    "                connected_component.append(successor)\n",
    "                if successor == node: break\n",
    "            result.append(connected_component[:])\n",
    "    \n",
    "    for node in graph:\n",
    "        if node not in index:\n",
    "            _strong_connect(node)\n",
    "    \n",
    "    return result\n",
    "\n",
    "def remove_node(G, target):\n",
    "    # Completely remove a node from the graph\n",
    "    # Expects values of G to be sets\n",
    "    del G[target]\n",
    "    for nbrs in G.values():\n",
    "        nbrs.discard(target)\n",
    "\n",
    "def subgraph(G, vertices):\n",
    "    # Get the subgraph of G induced by set vertices\n",
    "    # Expects values of G to be sets\n",
    "    return {v: G[v] & vertices for v in vertices}\n",
    "\n",
    "##example:\n",
    "#graph = {0: [7, 3, 5], 1: [2], 2: [7, 1], 3: [0, 5], 4: [6, 8], 5: [0, 3, 7], 6: [4, 8], 7: [0, 2, 5, 8], 8: [4, 6, 7]}\n",
    "#print(tuple(simple_cycles(graph)))\n",
    "\n",
    "cycles = list(simple_cycles(graph))  \n",
    "cycles[0]  ## 第一个环\n"
   ]
  },
  {
   "cell_type": "code",
   "execution_count": null,
   "metadata": {},
   "outputs": [],
   "source": []
  }
 ],
 "metadata": {
  "kernelspec": {
   "display_name": "Python 3",
   "language": "python",
   "name": "python3"
  },
  "language_info": {
   "codemirror_mode": {
    "name": "ipython",
    "version": 3
   },
   "file_extension": ".py",
   "mimetype": "text/x-python",
   "name": "python",
   "nbconvert_exporter": "python",
   "pygments_lexer": "ipython3",
   "version": "3.6.4"
  }
 },
 "nbformat": 4,
 "nbformat_minor": 2
}
